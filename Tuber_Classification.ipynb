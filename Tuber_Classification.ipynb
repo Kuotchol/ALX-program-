{
  "nbformat": 4,
  "nbformat_minor": 0,
  "metadata": {
    "colab": {
      "name": "Tuber Classification.ipynb",
      "provenance": [],
      "collapsed_sections": [
        "hmFZIIwAM-ea",
        "bY-RKmRuNCmT",
        "yUObRpGgNKbQ",
        "Bg4rpDQk3Ks3",
        "GSKajL0IADY8",
        "uaC8iRXtAd1M",
        "p2_hptRmISHl"
      ],
      "include_colab_link": true
    },
    "kernelspec": {
      "name": "python3",
      "display_name": "Python 3"
    },
    "language_info": {
      "name": "python"
    },
    "accelerator": "GPU"
  },
  "cells": [
    {
      "cell_type": "markdown",
      "metadata": {
        "id": "view-in-github",
        "colab_type": "text"
      },
      "source": [
        "<a href=\"https://colab.research.google.com/github/Kuotchol/ALX-program-/blob/main/Tuber_Classification.ipynb\" target=\"_parent\"><img src=\"https://colab.research.google.com/assets/colab-badge.svg\" alt=\"Open In Colab\"/></a>"
      ]
    },
    {
      "cell_type": "markdown",
      "metadata": {
        "id": "0kwIDVTnLZF0"
      },
      "source": [
        "# 1 The Dataset"
      ]
    },
    {
      "cell_type": "markdown",
      "metadata": {
        "id": "75wxTvLdK54x"
      },
      "source": [
        "## 1.1 Kaggle API json token"
      ]
    },
    {
      "cell_type": "code",
      "metadata": {
        "id": "phFi6Kt-ZdbM",
        "colab": {
          "base_uri": "https://localhost:8080/",
          "height": 38
        },
        "outputId": "5cfc1122-ae86-4dac-a979-294fe49a465f"
      },
      "source": [
        "! pip install -q kaggle\n",
        "from google.colab import files\n",
        "files.upload()\n",
        "! mkdir ~/.kaggle\n",
        "! cp kaggle.json ~/.kaggle/\n",
        "! chmod 600 ~/.kaggle/kaggle.json"
      ],
      "execution_count": null,
      "outputs": [
        {
          "output_type": "display_data",
          "data": {
            "text/plain": [
              "<IPython.core.display.HTML object>"
            ],
            "text/html": [
              "\n",
              "     <input type=\"file\" id=\"files-ff794419-00e8-4ae9-92ea-fe9b7cccab18\" name=\"files[]\" multiple disabled\n",
              "        style=\"border:none\" />\n",
              "     <output id=\"result-ff794419-00e8-4ae9-92ea-fe9b7cccab18\">\n",
              "      Upload widget is only available when the cell has been executed in the\n",
              "      current browser session. Please rerun this cell to enable.\n",
              "      </output>\n",
              "      <script>// Copyright 2017 Google LLC\n",
              "//\n",
              "// Licensed under the Apache License, Version 2.0 (the \"License\");\n",
              "// you may not use this file except in compliance with the License.\n",
              "// You may obtain a copy of the License at\n",
              "//\n",
              "//      http://www.apache.org/licenses/LICENSE-2.0\n",
              "//\n",
              "// Unless required by applicable law or agreed to in writing, software\n",
              "// distributed under the License is distributed on an \"AS IS\" BASIS,\n",
              "// WITHOUT WARRANTIES OR CONDITIONS OF ANY KIND, either express or implied.\n",
              "// See the License for the specific language governing permissions and\n",
              "// limitations under the License.\n",
              "\n",
              "/**\n",
              " * @fileoverview Helpers for google.colab Python module.\n",
              " */\n",
              "(function(scope) {\n",
              "function span(text, styleAttributes = {}) {\n",
              "  const element = document.createElement('span');\n",
              "  element.textContent = text;\n",
              "  for (const key of Object.keys(styleAttributes)) {\n",
              "    element.style[key] = styleAttributes[key];\n",
              "  }\n",
              "  return element;\n",
              "}\n",
              "\n",
              "// Max number of bytes which will be uploaded at a time.\n",
              "const MAX_PAYLOAD_SIZE = 100 * 1024;\n",
              "\n",
              "function _uploadFiles(inputId, outputId) {\n",
              "  const steps = uploadFilesStep(inputId, outputId);\n",
              "  const outputElement = document.getElementById(outputId);\n",
              "  // Cache steps on the outputElement to make it available for the next call\n",
              "  // to uploadFilesContinue from Python.\n",
              "  outputElement.steps = steps;\n",
              "\n",
              "  return _uploadFilesContinue(outputId);\n",
              "}\n",
              "\n",
              "// This is roughly an async generator (not supported in the browser yet),\n",
              "// where there are multiple asynchronous steps and the Python side is going\n",
              "// to poll for completion of each step.\n",
              "// This uses a Promise to block the python side on completion of each step,\n",
              "// then passes the result of the previous step as the input to the next step.\n",
              "function _uploadFilesContinue(outputId) {\n",
              "  const outputElement = document.getElementById(outputId);\n",
              "  const steps = outputElement.steps;\n",
              "\n",
              "  const next = steps.next(outputElement.lastPromiseValue);\n",
              "  return Promise.resolve(next.value.promise).then((value) => {\n",
              "    // Cache the last promise value to make it available to the next\n",
              "    // step of the generator.\n",
              "    outputElement.lastPromiseValue = value;\n",
              "    return next.value.response;\n",
              "  });\n",
              "}\n",
              "\n",
              "/**\n",
              " * Generator function which is called between each async step of the upload\n",
              " * process.\n",
              " * @param {string} inputId Element ID of the input file picker element.\n",
              " * @param {string} outputId Element ID of the output display.\n",
              " * @return {!Iterable<!Object>} Iterable of next steps.\n",
              " */\n",
              "function* uploadFilesStep(inputId, outputId) {\n",
              "  const inputElement = document.getElementById(inputId);\n",
              "  inputElement.disabled = false;\n",
              "\n",
              "  const outputElement = document.getElementById(outputId);\n",
              "  outputElement.innerHTML = '';\n",
              "\n",
              "  const pickedPromise = new Promise((resolve) => {\n",
              "    inputElement.addEventListener('change', (e) => {\n",
              "      resolve(e.target.files);\n",
              "    });\n",
              "  });\n",
              "\n",
              "  const cancel = document.createElement('button');\n",
              "  inputElement.parentElement.appendChild(cancel);\n",
              "  cancel.textContent = 'Cancel upload';\n",
              "  const cancelPromise = new Promise((resolve) => {\n",
              "    cancel.onclick = () => {\n",
              "      resolve(null);\n",
              "    };\n",
              "  });\n",
              "\n",
              "  // Wait for the user to pick the files.\n",
              "  const files = yield {\n",
              "    promise: Promise.race([pickedPromise, cancelPromise]),\n",
              "    response: {\n",
              "      action: 'starting',\n",
              "    }\n",
              "  };\n",
              "\n",
              "  cancel.remove();\n",
              "\n",
              "  // Disable the input element since further picks are not allowed.\n",
              "  inputElement.disabled = true;\n",
              "\n",
              "  if (!files) {\n",
              "    return {\n",
              "      response: {\n",
              "        action: 'complete',\n",
              "      }\n",
              "    };\n",
              "  }\n",
              "\n",
              "  for (const file of files) {\n",
              "    const li = document.createElement('li');\n",
              "    li.append(span(file.name, {fontWeight: 'bold'}));\n",
              "    li.append(span(\n",
              "        `(${file.type || 'n/a'}) - ${file.size} bytes, ` +\n",
              "        `last modified: ${\n",
              "            file.lastModifiedDate ? file.lastModifiedDate.toLocaleDateString() :\n",
              "                                    'n/a'} - `));\n",
              "    const percent = span('0% done');\n",
              "    li.appendChild(percent);\n",
              "\n",
              "    outputElement.appendChild(li);\n",
              "\n",
              "    const fileDataPromise = new Promise((resolve) => {\n",
              "      const reader = new FileReader();\n",
              "      reader.onload = (e) => {\n",
              "        resolve(e.target.result);\n",
              "      };\n",
              "      reader.readAsArrayBuffer(file);\n",
              "    });\n",
              "    // Wait for the data to be ready.\n",
              "    let fileData = yield {\n",
              "      promise: fileDataPromise,\n",
              "      response: {\n",
              "        action: 'continue',\n",
              "      }\n",
              "    };\n",
              "\n",
              "    // Use a chunked sending to avoid message size limits. See b/62115660.\n",
              "    let position = 0;\n",
              "    do {\n",
              "      const length = Math.min(fileData.byteLength - position, MAX_PAYLOAD_SIZE);\n",
              "      const chunk = new Uint8Array(fileData, position, length);\n",
              "      position += length;\n",
              "\n",
              "      const base64 = btoa(String.fromCharCode.apply(null, chunk));\n",
              "      yield {\n",
              "        response: {\n",
              "          action: 'append',\n",
              "          file: file.name,\n",
              "          data: base64,\n",
              "        },\n",
              "      };\n",
              "\n",
              "      let percentDone = fileData.byteLength === 0 ?\n",
              "          100 :\n",
              "          Math.round((position / fileData.byteLength) * 100);\n",
              "      percent.textContent = `${percentDone}% done`;\n",
              "\n",
              "    } while (position < fileData.byteLength);\n",
              "  }\n",
              "\n",
              "  // All done.\n",
              "  yield {\n",
              "    response: {\n",
              "      action: 'complete',\n",
              "    }\n",
              "  };\n",
              "}\n",
              "\n",
              "scope.google = scope.google || {};\n",
              "scope.google.colab = scope.google.colab || {};\n",
              "scope.google.colab._files = {\n",
              "  _uploadFiles,\n",
              "  _uploadFilesContinue,\n",
              "};\n",
              "})(self);\n",
              "</script> "
            ]
          },
          "metadata": {}
        }
      ]
    },
    {
      "cell_type": "markdown",
      "metadata": {
        "id": "R99y4P8dLjGM"
      },
      "source": [
        "## 1.2 Download the dataset"
      ]
    },
    {
      "cell_type": "markdown",
      "metadata": {
        "id": "DwnyKgnzKJha"
      },
      "source": [
        "By providing the Kaggle Dataset API command."
      ]
    },
    {
      "cell_type": "code",
      "metadata": {
        "id": "YKkGpZwDJwWS"
      },
      "source": [
        "! kaggle datasets download -d tawsifurrahman/tuberculosis-tb-chest-xray-dataset"
      ],
      "execution_count": null,
      "outputs": []
    },
    {
      "cell_type": "markdown",
      "metadata": {
        "id": "rl6CIdfML2F8"
      },
      "source": [
        "## 1.3 Unzipping\n"
      ]
    },
    {
      "cell_type": "code",
      "metadata": {
        "id": "6qzGe76tKZyV"
      },
      "source": [
        "import zipfile\n",
        "zf = \"/content/tuberculosis-tb-chest-xray-dataset.zip\"\n",
        "target_dir = \"/content/dataset/cnn/tuberculosis_revamped\"\n",
        "zfile = zipfile.ZipFile(zf)\n",
        "zfile.extractall(target_dir)"
      ],
      "execution_count": null,
      "outputs": []
    },
    {
      "cell_type": "markdown",
      "metadata": {
        "id": "LpTMRAt1Su8Z"
      },
      "source": [
        "## 1.4 Spliting to Train, Validation, Test"
      ]
    },
    {
      "cell_type": "code",
      "metadata": {
        "id": "r27xRma7RLRW"
      },
      "source": [
        "!pip install split-folders"
      ],
      "execution_count": null,
      "outputs": []
    },
    {
      "cell_type": "code",
      "metadata": {
        "id": "wiOtC9MvQi09"
      },
      "source": [
        "import splitfolders\n",
        "\n",
        "splitfolders.ratio(\n",
        "    \"/content/dataset/cnn/tuberculosis_revamped/TB_Chest_Radiography_Database\",\n",
        "    output=\"/content/dataset/cnn/tuberculosis\",\n",
        "    seed=1337,\n",
        "    ratio=(.7, .2, .1),\n",
        "    group_prefix=None\n",
        ")\n"
      ],
      "execution_count": null,
      "outputs": []
    },
    {
      "cell_type": "code",
      "metadata": {
        "id": "mBZ-dou_Se-c"
      },
      "source": [
        "!rm -r \"/content/dataset/cnn/tuberculosis_revamped\""
      ],
      "execution_count": null,
      "outputs": []
    },
    {
      "cell_type": "markdown",
      "metadata": {
        "id": "5OUM0JYmKTdc"
      },
      "source": [
        "Following code is to make test directory have a single folder with both Normal and Tuberculosis datas.\n",
        "In our case we do not require this part of the code hence its commented."
      ]
    },
    {
      "cell_type": "code",
      "metadata": {
        "id": "S5-wN9cvVDuD"
      },
      "source": [
        "# !mv  -v /content/dataset/cnn/tuberculosis/test/Normal/* /content/dataset/cnn/tuberculosis/test/\n",
        "# !mv  -v /content/dataset/cnn/tuberculosis/test/Tuberculosis/* /content/dataset/cnn/tuberculosis/test/\n",
        "# !rm -r /content/dataset/cnn/tuberculosis/test/Normal\n",
        "# !rm -r /content/dataset/cnn/tuberculosis/test/Tuberculosis"
      ],
      "execution_count": null,
      "outputs": []
    },
    {
      "cell_type": "markdown",
      "metadata": {
        "id": "d0SGRCBRMN4l"
      },
      "source": [
        "# 2 Initialize"
      ]
    },
    {
      "cell_type": "markdown",
      "metadata": {
        "id": "hmFZIIwAM-ea"
      },
      "source": [
        "## 2.1 Basic Imports"
      ]
    },
    {
      "cell_type": "code",
      "metadata": {
        "id": "n90ZY9SrMRRc"
      },
      "source": [
        "#Some Basic Imports\n",
        "import matplotlib.pyplot as plt #For Visualization\n",
        "import numpy as np              #For handling arrays\n",
        "import pandas as pd             # For handling data"
      ],
      "execution_count": null,
      "outputs": []
    },
    {
      "cell_type": "markdown",
      "metadata": {
        "id": "bY-RKmRuNCmT"
      },
      "source": [
        "## 2.2 Define Directories"
      ]
    },
    {
      "cell_type": "code",
      "metadata": {
        "id": "jAJ2PxtuNGg7"
      },
      "source": [
        "#Define Directories for train, test & Validation Set\n",
        "train_path = '/content/dataset/cnn/tuberculosis/train'\n",
        "test_path = '/content/dataset/cnn/tuberculosis/test'\n",
        "valid_path = '/content/dataset/cnn/tuberculosis/val'"
      ],
      "execution_count": null,
      "outputs": []
    },
    {
      "cell_type": "markdown",
      "metadata": {
        "id": "yUObRpGgNKbQ"
      },
      "source": [
        "## 2.3 Basic Parameters"
      ]
    },
    {
      "cell_type": "code",
      "metadata": {
        "id": "5SbzHXKyNOgM"
      },
      "source": [
        "#The batch refers to the number of training examples utilized in one #iteration\n",
        "batch_size = 16\n",
        "#The dimension of the images we are going to define is 500x500 img_height = 500\n",
        "img_height = 500\n",
        "img_width = 500"
      ],
      "execution_count": null,
      "outputs": []
    },
    {
      "cell_type": "markdown",
      "metadata": {
        "id": "sw99tHHOXWhW"
      },
      "source": [
        "# 3 Preparing the Data"
      ]
    },
    {
      "cell_type": "markdown",
      "metadata": {
        "id": "Bg4rpDQk3Ks3"
      },
      "source": [
        "## 3.1 Data Augmentation"
      ]
    },
    {
      "cell_type": "code",
      "metadata": {
        "id": "bUnahqKSXZ5p"
      },
      "source": [
        "from tensorflow.keras.preprocessing.image import ImageDataGenerator\n",
        "# Create Image Data Generator for Train Set\n",
        "image_gen = ImageDataGenerator(\n",
        "                                rescale = 1./255,\n",
        "                                #shear_range = 0,\n",
        "                                #zoom_range = 0,\n",
        "                                horizontal_flip = True,\n",
        "                               )\n",
        "# Create Image Data Generator for Test/Validation Set\n",
        "test_data_gen = ImageDataGenerator(rescale = 1./255)"
      ],
      "execution_count": null,
      "outputs": []
    },
    {
      "cell_type": "code",
      "metadata": {
        "id": "a3QD66CY3wQc"
      },
      "source": [
        "train = image_gen.flow_from_directory(\n",
        "      train_path,\n",
        "      target_size=(img_height, img_width),\n",
        "      color_mode='grayscale',\n",
        "      class_mode='binary',\n",
        "      batch_size=batch_size\n",
        "      )\n",
        "\n",
        "test = test_data_gen.flow_from_directory(\n",
        "      test_path,\n",
        "      target_size=(img_height, img_width),\n",
        "      color_mode='grayscale',\n",
        "      shuffle=False,\n",
        "      class_mode='binary',\n",
        "      batch_size=batch_size\n",
        "      )\n",
        "\n",
        "valid = test_data_gen.flow_from_directory(\n",
        "      valid_path,\n",
        "      target_size=(img_height, img_width),\n",
        "      color_mode='grayscale',\n",
        "      class_mode='binary',\n",
        "      batch_size=batch_size\n",
        "      )"
      ],
      "execution_count": null,
      "outputs": []
    },
    {
      "cell_type": "code",
      "metadata": {
        "id": "GF5M19sf4ew0"
      },
      "source": [
        "plt.figure(figsize=(12, 12))\n",
        "for i in range(0, 10):\n",
        "    plt.subplot(2, 5, i+1)\n",
        "    for X_batch, Y_batch in train:\n",
        "        image = X_batch[0]\n",
        "        dic = {0:'NORMAL', 1:'TUBERCULOSIS'}\n",
        "        plt.title(dic.get(Y_batch[0]))\n",
        "        plt.axis('off')\n",
        "        plt.imshow(np.squeeze(image),cmap='gray',interpolation='nearest')\n",
        "        break\n",
        "plt.tight_layout()\n",
        "plt.show()"
      ],
      "execution_count": null,
      "outputs": []
    },
    {
      "cell_type": "markdown",
      "metadata": {
        "id": "nDJh5wu3-3TT"
      },
      "source": [
        "# 4 Convolutional Neural Network"
      ]
    },
    {
      "cell_type": "markdown",
      "metadata": {
        "id": "GSKajL0IADY8"
      },
      "source": [
        "## 4.1 Necessary Imports"
      ]
    },
    {
      "cell_type": "code",
      "metadata": {
        "id": "UIrXz97Q8Pdj"
      },
      "source": [
        "from tensorflow.keras.models import Sequential\n",
        "from tensorflow.keras.layers import Dense,Conv2D,Flatten,MaxPooling2D\n",
        "from tensorflow.keras.callbacks import EarlyStopping,ReduceLROnPlateau"
      ],
      "execution_count": null,
      "outputs": []
    },
    {
      "cell_type": "markdown",
      "metadata": {
        "id": "uaC8iRXtAd1M"
      },
      "source": [
        "## 4.2 CNN Architecture"
      ]
    },
    {
      "cell_type": "code",
      "metadata": {
        "id": "n-LM1CH9AI57"
      },
      "source": [
        "cnn = Sequential()\n",
        "cnn.add(Conv2D(32, (3, 3), activation=\"relu\", input_shape=(img_width, img_height, 1)))\n",
        "cnn.add(MaxPooling2D(pool_size = (2, 2)))\n",
        "cnn.add(Conv2D(32, (3, 3), activation=\"relu\", input_shape=(img_width, img_height, 1)))\n",
        "cnn.add(MaxPooling2D(pool_size = (2, 2)))\n",
        "cnn.add(Conv2D(32, (3, 3), activation=\"relu\", input_shape=(img_width, img_height, 1)))\n",
        "cnn.add(MaxPooling2D(pool_size = (2, 2)))\n",
        "cnn.add(Conv2D(64, (3, 3), activation=\"relu\", input_shape=(img_width, img_height, 1)))\n",
        "cnn.add(MaxPooling2D(pool_size = (2, 2)))\n",
        "cnn.add(Conv2D(64, (3, 3), activation=\"relu\", input_shape=(img_width, img_height, 1)))\n",
        "cnn.add(MaxPooling2D(pool_size = (2, 2)))\n",
        "cnn.add(Flatten())\n",
        "cnn.add(Dense(activation = 'relu', units = 128))\n",
        "cnn.add(Dense(activation = 'relu', units = 64))\n",
        "cnn.add(Dense(activation = 'sigmoid', units = 1))"
      ],
      "execution_count": null,
      "outputs": []
    },
    {
      "cell_type": "markdown",
      "metadata": {
        "id": "z9dcVKKsJsTC"
      },
      "source": [
        "Model Compile"
      ]
    },
    {
      "cell_type": "code",
      "metadata": {
        "id": "v4qxjwbkBKPF"
      },
      "source": [
        "cnn.compile(optimizer = 'adam', loss = 'binary_crossentropy', metrics = ['accuracy'])"
      ],
      "execution_count": null,
      "outputs": []
    },
    {
      "cell_type": "markdown",
      "metadata": {
        "id": "S-dTDknFJvah"
      },
      "source": [
        "Model Summary"
      ]
    },
    {
      "cell_type": "code",
      "metadata": {
        "id": "_KZmqfQkBPDq"
      },
      "source": [
        "cnn.summary()"
      ],
      "execution_count": null,
      "outputs": []
    },
    {
      "cell_type": "markdown",
      "metadata": {
        "id": "yod-3xCzJ2ki"
      },
      "source": [
        "Visualize CNN model"
      ]
    },
    {
      "cell_type": "code",
      "metadata": {
        "id": "qpN_-JhlBdQq"
      },
      "source": [
        "from tensorflow.keras.utils import plot_model\n",
        "plot_model(cnn,show_shapes=True, show_layer_names=True, rankdir='TB', expand_nested=True)"
      ],
      "execution_count": null,
      "outputs": []
    },
    {
      "cell_type": "markdown",
      "metadata": {
        "id": "p2_hptRmISHl"
      },
      "source": [
        "## 4.3 Fit the model"
      ]
    },
    {
      "cell_type": "markdown",
      "metadata": {
        "id": "YvXXvk5jIwus"
      },
      "source": [
        "Defining callback list"
      ]
    },
    {
      "cell_type": "code",
      "metadata": {
        "id": "tYvkrOqxHJFs"
      },
      "source": [
        "early = EarlyStopping(monitor= \"val_loss\", mode= \"min\", patience= 3)\n",
        "learning_rate_reduction = ReduceLROnPlateau(monitor='val_loss', patience = 2, verbose=1,factor=0.3, min_lr=0.000001)\n",
        "callbacks_list = [ early, learning_rate_reduction]"
      ],
      "execution_count": null,
      "outputs": []
    },
    {
      "cell_type": "markdown",
      "metadata": {
        "id": "aovKj1FmI1gA"
      },
      "source": [
        "Assigning Class Weights"
      ]
    },
    {
      "cell_type": "code",
      "metadata": {
        "id": "hkzRmJydIYLh"
      },
      "source": [
        "from sklearn.utils.class_weight import compute_class_weight\n",
        "weights = compute_class_weight('balanced', np.unique(train.classes), train.classes)\n",
        "cw = dict(zip( np.unique(train.classes), weights))\n",
        "print(cw)"
      ],
      "execution_count": null,
      "outputs": []
    },
    {
      "cell_type": "markdown",
      "metadata": {
        "id": "MqM7Q3MkJME-"
      },
      "source": [
        "Training"
      ]
    },
    {
      "cell_type": "code",
      "metadata": {
        "id": "CpaytmwRI9ew"
      },
      "source": [
        "cnn.fit(train,epochs=25, validation_data=valid, class_weight=cw, callbacks=callbacks_list)"
      ],
      "execution_count": null,
      "outputs": []
    },
    {
      "cell_type": "markdown",
      "metadata": {
        "id": "QekFWH3sMrto"
      },
      "source": [
        "# 5 Evaluate"
      ]
    },
    {
      "cell_type": "code",
      "metadata": {
        "id": "sUtIzFRbMwNX"
      },
      "source": [
        "pd.DataFrame(cnn.history.history).plot()"
      ],
      "execution_count": null,
      "outputs": []
    },
    {
      "cell_type": "code",
      "metadata": {
        "id": "pfamUiATM0mj"
      },
      "source": [
        "test_accu = cnn.evaluate(test)\n",
        "print('The testing accuracy is :',test_accu[1]*100, '%')"
      ],
      "execution_count": null,
      "outputs": []
    },
    {
      "cell_type": "code",
      "metadata": {
        "id": "wb2niO1RM8FV"
      },
      "source": [
        "preds = cnn.predict(test,verbose=1)"
      ],
      "execution_count": null,
      "outputs": []
    },
    {
      "cell_type": "code",
      "metadata": {
        "id": "MPMcSNCINWpB"
      },
      "source": [
        "predictions = preds.copy()\n",
        "predictions[predictions <= 0.5] = 0\n",
        "predictions[predictions > 0.5] = 1"
      ],
      "execution_count": null,
      "outputs": []
    },
    {
      "cell_type": "markdown",
      "metadata": {
        "id": "Ipnm2yLfNxRB"
      },
      "source": [
        "Confussion Matrix"
      ]
    },
    {
      "cell_type": "code",
      "metadata": {
        "id": "dYxgu6ZHN2eR"
      },
      "source": [
        "from sklearn.metrics import classification_report,confusion_matrix\n",
        "cm = pd.DataFrame(data=confusion_matrix(test.classes, predictions, labels=[0, 1]),index=[\"Actual Normal\", \"Actual Tuberculosis\"],\n",
        "columns=[\"Predicted Normal\", \"Predicted Tuberculosis\"])\n",
        "import seaborn as sns\n",
        "sns.heatmap(cm,annot=True,fmt=\"d\")"
      ],
      "execution_count": null,
      "outputs": []
    },
    {
      "cell_type": "markdown",
      "metadata": {
        "id": "PZeEVFUfN7a2"
      },
      "source": [
        "Classification Report"
      ]
    },
    {
      "cell_type": "code",
      "metadata": {
        "id": "BSiQTWFON3c_"
      },
      "source": [
        "print(classification_report(y_true=test.classes,y_pred=predictions,target_names =['NORMAL','TUBERCULOSIS']))"
      ],
      "execution_count": null,
      "outputs": []
    },
    {
      "cell_type": "code",
      "metadata": {
        "id": "GFCjfuVmN_3u"
      },
      "source": [
        "test.reset()\n",
        "x=np.concatenate([test.next()[0] for i in range(test.__len__())])\n",
        "y=np.concatenate([test.next()[1] for i in range(test.__len__())])\n",
        "print(x.shape)\n",
        "print(y.shape)\n",
        "#this little code above extracts the images from test Data iterator without shuffling the sequence\n",
        "# x contains image array and y has labels\n",
        "dic = {0:'NORMAL', 1:'TUBERCULOSIS'}\n",
        "plt.figure(figsize=(20,20))\n",
        "for i in range(0+228, 9+228):\n",
        "  plt.subplot(3, 3, (i-228)+1)\n",
        "  if preds[i, 0] >= 0.5:\n",
        "    out = ('{:.2%} probability of being Tuberculosis case'.format(preds[i][0]))\n",
        "\n",
        "\n",
        "  else:\n",
        "    out = ('{:.2%} probability of being Normal case'.format(1-preds[i][0]))\n",
        "  plt.title(out+\"\\n Actual case : \"+ dic.get(y[i]))\n",
        "  plt.imshow(np.squeeze(x[i]))\n",
        "  plt.axis('off')\n",
        "plt.show()\n"
      ],
      "execution_count": null,
      "outputs": []
    }
  ]
}